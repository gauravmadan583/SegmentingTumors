{
 "cells": [
  {
   "cell_type": "markdown",
   "metadata": {},
   "source": [
    "### Importing necessary modules"
   ]
  },
  {
   "cell_type": "code",
   "execution_count": 2,
   "metadata": {
    "_cell_guid": "b1076dfc-b9ad-4769-8c92-a6c4dae69d19",
    "_uuid": "8f2839f25d086af736a60e9eeb907d3b93b6e0e5",
    "execution": {
     "iopub.execute_input": "2021-11-16T17:40:55.127339Z",
     "iopub.status.busy": "2021-11-16T17:40:55.126993Z",
     "iopub.status.idle": "2021-11-16T17:40:55.133557Z",
     "shell.execute_reply": "2021-11-16T17:40:55.132677Z",
     "shell.execute_reply.started": "2021-11-16T17:40:55.127293Z"
    }
   },
   "outputs": [],
   "source": [
    "import pandas as pd\n",
    "import numpy as np\n",
    "import matplotlib.pyplot as plt\n",
    "plt.style.use('ggplot')\n",
    "%matplotlib inline"
   ]
  },
  {
   "cell_type": "code",
   "execution_count": 3,
   "metadata": {
    "execution": {
     "iopub.execute_input": "2021-11-16T17:40:56.737342Z",
     "iopub.status.busy": "2021-11-16T17:40:56.736998Z",
     "iopub.status.idle": "2021-11-16T17:40:56.741551Z",
     "shell.execute_reply": "2021-11-16T17:40:56.740702Z",
     "shell.execute_reply.started": "2021-11-16T17:40:56.737294Z"
    }
   },
   "outputs": [],
   "source": [
    "import os\n",
    "from tqdm import tqdm\n",
    "import random\n",
    "from itertools import chain"
   ]
  },
  {
   "cell_type": "code",
   "execution_count": 4,
   "metadata": {
    "execution": {
     "iopub.execute_input": "2021-11-16T17:41:00.514906Z",
     "iopub.status.busy": "2021-11-16T17:41:00.514584Z",
     "iopub.status.idle": "2021-11-16T17:41:02.133387Z",
     "shell.execute_reply": "2021-11-16T17:41:02.132483Z",
     "shell.execute_reply.started": "2021-11-16T17:41:00.514875Z"
    }
   },
   "outputs": [],
   "source": [
    "import cv2\n",
    "from glob import glob\n",
    "\n",
    "from skimage.io import imread, imshow, concatenate_images\n",
    "from skimage.transform import resize\n",
    "from skimage.morphology import label\n",
    "from skimage.color import rgb2gray"
   ]
  },
  {
   "cell_type": "code",
   "execution_count": 5,
   "metadata": {
    "execution": {
     "iopub.execute_input": "2021-11-16T17:41:02.135318Z",
     "iopub.status.busy": "2021-11-16T17:41:02.135004Z",
     "iopub.status.idle": "2021-11-16T17:41:02.286779Z",
     "shell.execute_reply": "2021-11-16T17:41:02.285934Z",
     "shell.execute_reply.started": "2021-11-16T17:41:02.135287Z"
    }
   },
   "outputs": [],
   "source": [
    "from sklearn.model_selection import train_test_split"
   ]
  },
  {
   "cell_type": "code",
   "execution_count": 6,
   "metadata": {
    "execution": {
     "iopub.execute_input": "2021-11-16T17:41:02.289780Z",
     "iopub.status.busy": "2021-11-16T17:41:02.289114Z",
     "iopub.status.idle": "2021-11-16T17:41:06.590404Z",
     "shell.execute_reply": "2021-11-16T17:41:06.589625Z",
     "shell.execute_reply.started": "2021-11-16T17:41:02.289739Z"
    }
   },
   "outputs": [],
   "source": [
    "import tensorflow as tf\n",
    "from tensorflow.keras import Input\n",
    "from tensorflow.keras.models import Model, load_model,save_model\n",
    "from tensorflow.keras.layers import (Input, Activation,\n",
    "                                     BatchNormalization, \n",
    "                                     Dropout, Lambda, Conv2D,\n",
    "                                     Conv2DTranspose, MaxPooling2D,\n",
    "                                     concatenate)\n",
    "from tensorflow.keras.optimizers import Adam\n",
    "from tensorflow.keras.callbacks import EarlyStopping, ModelCheckpoint\n",
    "\n",
    "from tensorflow.keras import backend as K\n",
    "\n",
    "from tensorflow.keras.preprocessing.image import ImageDataGenerator"
   ]
  },
  {
   "cell_type": "code",
   "execution_count": 7,
   "metadata": {
    "execution": {
     "iopub.execute_input": "2021-11-16T17:41:06.592529Z",
     "iopub.status.busy": "2021-11-16T17:41:06.592201Z",
     "iopub.status.idle": "2021-11-16T17:41:06.596844Z",
     "shell.execute_reply": "2021-11-16T17:41:06.595999Z",
     "shell.execute_reply.started": "2021-11-16T17:41:06.592502Z"
    }
   },
   "outputs": [],
   "source": [
    "from skimage import io\n",
    "from tensorflow.keras.layers import *\n",
    "from sklearn.preprocessing import StandardScaler, normalize\n"
   ]
  },
  {
   "cell_type": "code",
   "execution_count": 8,
   "metadata": {
    "execution": {
     "iopub.execute_input": "2021-11-16T17:41:06.598960Z",
     "iopub.status.busy": "2021-11-16T17:41:06.598357Z",
     "iopub.status.idle": "2021-11-16T17:41:06.631303Z",
     "shell.execute_reply": "2021-11-16T17:41:06.630510Z",
     "shell.execute_reply.started": "2021-11-16T17:41:06.598923Z"
    }
   },
   "outputs": [],
   "source": [
    "os.listdir('../input/lgg-mri-segmentation/kaggle_3m/')"
   ]
  },
  {
   "cell_type": "code",
   "execution_count": 9,
   "metadata": {
    "execution": {
     "iopub.execute_input": "2021-11-16T17:48:24.938266Z",
     "iopub.status.busy": "2021-11-16T17:48:24.937907Z",
     "iopub.status.idle": "2021-11-16T17:48:24.943257Z",
     "shell.execute_reply": "2021-11-16T17:48:24.942230Z",
     "shell.execute_reply.started": "2021-11-16T17:48:24.938233Z"
    }
   },
   "outputs": [],
   "source": [
    "root = '../input/lgg-mri-segmentation/kaggle_3m/'"
   ]
  },
  {
   "cell_type": "code",
   "execution_count": 10,
   "metadata": {
    "execution": {
     "iopub.execute_input": "2021-11-16T17:48:27.619053Z",
     "iopub.status.busy": "2021-11-16T17:48:27.618705Z",
     "iopub.status.idle": "2021-11-16T17:48:27.625004Z",
     "shell.execute_reply": "2021-11-16T17:48:27.622262Z",
     "shell.execute_reply.started": "2021-11-16T17:48:27.619021Z"
    }
   },
   "outputs": [],
   "source": [
    "WIDTH = HEIGHT = 256"
   ]
  },
  {
   "cell_type": "code",
   "execution_count": 11,
   "metadata": {
    "execution": {
     "iopub.execute_input": "2021-11-16T17:48:29.553470Z",
     "iopub.status.busy": "2021-11-16T17:48:29.553140Z",
     "iopub.status.idle": "2021-11-16T17:48:29.574855Z",
     "shell.execute_reply": "2021-11-16T17:48:29.574100Z",
     "shell.execute_reply.started": "2021-11-16T17:48:29.553438Z"
    }
   },
   "outputs": [],
   "source": [
    "\n",
    "# data containing path to Brain MRI and their corresponding mask\n",
    "brain_df = pd.read_csv('../input/lgg-mri-segmentation/kaggle_3m/data.csv')\n"
   ]
  },
  {
   "cell_type": "code",
   "execution_count": 12,
   "metadata": {
    "execution": {
     "iopub.execute_input": "2021-11-16T17:48:34.706105Z",
     "iopub.status.busy": "2021-11-16T17:48:34.705780Z",
     "iopub.status.idle": "2021-11-16T17:48:34.733514Z",
     "shell.execute_reply": "2021-11-16T17:48:34.732385Z",
     "shell.execute_reply.started": "2021-11-16T17:48:34.706074Z"
    }
   },
   "outputs": [],
   "source": [
    "brain_df.info"
   ]
  },
  {
   "cell_type": "code",
   "execution_count": 13,
   "metadata": {
    "execution": {
     "iopub.execute_input": "2021-11-16T17:48:38.978208Z",
     "iopub.status.busy": "2021-11-16T17:48:38.977877Z",
     "iopub.status.idle": "2021-11-16T17:48:39.007337Z",
     "shell.execute_reply": "2021-11-16T17:48:39.006510Z",
     "shell.execute_reply.started": "2021-11-16T17:48:38.978177Z"
    }
   },
   "outputs": [],
   "source": [
    "brain_df.head(10)"
   ]
  },
  {
   "cell_type": "code",
   "execution_count": 14,
   "metadata": {
    "execution": {
     "iopub.execute_input": "2021-11-16T17:48:54.125179Z",
     "iopub.status.busy": "2021-11-16T17:48:54.124826Z",
     "iopub.status.idle": "2021-11-16T17:48:55.105829Z",
     "shell.execute_reply": "2021-11-16T17:48:55.104908Z",
     "shell.execute_reply.started": "2021-11-16T17:48:54.125148Z"
    }
   },
   "outputs": [],
   "source": [
    "data_map = []\n",
    "for sub_dir_path in glob(\"/kaggle/input/lgg-mri-segmentation/kaggle_3m/\"+\"*\"):\n",
    "    #if os.path.isdir(sub_path_dir):\n",
    "    try:\n",
    "        dir_name = sub_dir_path.split('/')[-1]\n",
    "        for filename in os.listdir(sub_dir_path):\n",
    "            image_path = sub_dir_path + '/' + filename\n",
    "            data_map.extend([dir_name, image_path])\n",
    "    except Exception as e:\n",
    "        print(e)"
   ]
  },
  {
   "cell_type": "code",
   "execution_count": 15,
   "metadata": {
    "execution": {
     "iopub.execute_input": "2021-11-16T17:49:01.470266Z",
     "iopub.status.busy": "2021-11-16T17:49:01.469948Z",
     "iopub.status.idle": "2021-11-16T17:49:01.485480Z",
     "shell.execute_reply": "2021-11-16T17:49:01.484652Z",
     "shell.execute_reply.started": "2021-11-16T17:49:01.470233Z"
    }
   },
   "outputs": [],
   "source": [
    "df = pd.DataFrame({\"patient_id\" : data_map[::2],\n",
    "                   \"path\" : data_map[1::2]})\n",
    "df.head()"
   ]
  },
  {
   "cell_type": "code",
   "execution_count": 16,
   "metadata": {
    "execution": {
     "iopub.execute_input": "2021-11-16T17:49:06.068704Z",
     "iopub.status.busy": "2021-11-16T17:49:06.068206Z",
     "iopub.status.idle": "2021-11-16T17:49:06.096303Z",
     "shell.execute_reply": "2021-11-16T17:49:06.095414Z",
     "shell.execute_reply.started": "2021-11-16T17:49:06.068668Z"
    }
   },
   "outputs": [],
   "source": [
    "df_imgs = df[~df['path'].str.contains(\"mask\")]\n",
    "df_masks = df[df['path'].str.contains(\"mask\")]\n",
    "\n",
    "# File path line length images for later sorting\n",
    "BASE_LEN = 89 # len(/kaggle/input/lgg-mri-segmentation/kaggle_3m/TCGA_DU_6404_19850629/TCGA_DU_6404_19850629_ <-!!!43.tif)\n",
    "END_IMG_LEN = 4 # len(/kaggle/input/lgg-mri-segmentation/kaggle_3m/TCGA_DU_6404_19850629/TCGA_DU_6404_19850629_43 !!!->.tif)\n",
    "END_MASK_LEN = 9 # (/kaggle/input/lgg-mri-segmentation/kaggle_3m/TCGA_DU_6404_19850629/TCGA_DU_6404_19850629_43 !!!->_mask.tif)\n",
    "\n",
    "# Data sorting\n",
    "imgs = sorted(df_imgs[\"path\"].values, key=lambda x : int(x[BASE_LEN:-END_IMG_LEN]))\n",
    "masks = sorted(df_masks[\"path\"].values, key=lambda x : int(x[BASE_LEN:-END_MASK_LEN]))\n",
    "\n",
    "# Sorting check\n",
    "idx = random.randint(0, len(imgs)-1)\n",
    "print(\"Path to the Image:\", imgs[idx], \"\\nPath to the Mask:\", masks[idx])"
   ]
  },
  {
   "cell_type": "code",
   "execution_count": 17,
   "metadata": {
    "execution": {
     "iopub.execute_input": "2021-11-16T17:49:11.679583Z",
     "iopub.status.busy": "2021-11-16T17:49:11.679218Z",
     "iopub.status.idle": "2021-11-16T17:49:37.179627Z",
     "shell.execute_reply": "2021-11-16T17:49:37.178868Z",
     "shell.execute_reply.started": "2021-11-16T17:49:11.679544Z"
    }
   },
   "outputs": [],
   "source": [
    "# Final dataframe\n",
    "brain_df = pd.DataFrame({\"patient_id\": df_imgs.patient_id.values,\n",
    "                         \"image_path\": imgs,\n",
    "                         \"mask_path\": masks\n",
    "                        })\n",
    "def pos_neg_diagnosis(mask_path):\n",
    "    value = np.max(cv2.imread(mask_path))\n",
    "    if value > 0 : \n",
    "        return 1\n",
    "    else:\n",
    "        return 0\n",
    "    \n",
    "brain_df['mask'] = brain_df['mask_path'].apply(lambda x: pos_neg_diagnosis(x))\n",
    "brain_df"
   ]
  },
  {
   "cell_type": "code",
   "execution_count": 18,
   "metadata": {
    "execution": {
     "iopub.execute_input": "2021-11-16T17:49:49.754366Z",
     "iopub.status.busy": "2021-11-16T17:49:49.754021Z",
     "iopub.status.idle": "2021-11-16T17:49:49.762210Z",
     "shell.execute_reply": "2021-11-16T17:49:49.761257Z",
     "shell.execute_reply.started": "2021-11-16T17:49:49.754313Z"
    }
   },
   "outputs": [],
   "source": [
    "brain_df['mask'].value_counts().index"
   ]
  },
  {
   "cell_type": "code",
   "execution_count": 19,
   "metadata": {
    "execution": {
     "iopub.execute_input": "2021-11-16T17:49:54.740308Z",
     "iopub.status.busy": "2021-11-16T17:49:54.739985Z",
     "iopub.status.idle": "2021-11-16T17:49:55.026579Z",
     "shell.execute_reply": "2021-11-16T17:49:55.025380Z",
     "shell.execute_reply.started": "2021-11-16T17:49:54.740276Z"
    }
   },
   "outputs": [],
   "source": [
    "# Use plotly to plot interactive bar chart\n",
    "import plotly.graph_objects as go\n",
    "\n",
    "fig = go.Figure([go.Bar(x = brain_df['mask'].value_counts().index, y = brain_df['mask'].value_counts())])\n",
    "fig.update_traces(marker_color = 'rgb(0,200,0)', marker_line_color = 'rgb(0,255,0)',\n",
    "                  marker_line_width = 7, opacity = 0.6)\n",
    "fig.show()"
   ]
  },
  {
   "cell_type": "code",
   "execution_count": 20,
   "metadata": {
    "execution": {
     "iopub.execute_input": "2021-11-16T17:50:02.143219Z",
     "iopub.status.busy": "2021-11-16T17:50:02.142888Z",
     "iopub.status.idle": "2021-11-16T17:50:02.256399Z",
     "shell.execute_reply": "2021-11-16T17:50:02.255664Z",
     "shell.execute_reply.started": "2021-11-16T17:50:02.143187Z"
    }
   },
   "outputs": [],
   "source": [
    "# loading images\n",
    "mask_files = glob(root +'*/*_mask*')\n",
    "img_files = list(map(lambda x: x.replace('_mask',''),mask_files))\n"
   ]
  },
  {
   "cell_type": "code",
   "execution_count": 21,
   "metadata": {
    "execution": {
     "iopub.execute_input": "2021-11-16T17:50:04.980775Z",
     "iopub.status.busy": "2021-11-16T17:50:04.980252Z",
     "iopub.status.idle": "2021-11-16T17:50:04.986598Z",
     "shell.execute_reply": "2021-11-16T17:50:04.985558Z",
     "shell.execute_reply.started": "2021-11-16T17:50:04.980736Z"
    }
   },
   "outputs": [],
   "source": [
    "len(img_files)"
   ]
  },
  {
   "cell_type": "markdown",
   "metadata": {},
   "source": [
    "### Visualizing Images"
   ]
  },
  {
   "cell_type": "code",
   "execution_count": 22,
   "metadata": {
    "execution": {
     "iopub.execute_input": "2021-11-16T17:50:07.537529Z",
     "iopub.status.busy": "2021-11-16T17:50:07.537156Z",
     "iopub.status.idle": "2021-11-16T17:50:07.720240Z",
     "shell.execute_reply": "2021-11-16T17:50:07.719356Z",
     "shell.execute_reply.started": "2021-11-16T17:50:07.537496Z"
    }
   },
   "outputs": [],
   "source": [
    "plt.imshow(cv2.imread(brain_df.image_path[623]))"
   ]
  },
  {
   "cell_type": "code",
   "execution_count": 23,
   "metadata": {
    "execution": {
     "iopub.execute_input": "2021-11-16T17:50:10.715436Z",
     "iopub.status.busy": "2021-11-16T17:50:10.715068Z",
     "iopub.status.idle": "2021-11-16T17:50:10.853028Z",
     "shell.execute_reply": "2021-11-16T17:50:10.852170Z",
     "shell.execute_reply.started": "2021-11-16T17:50:10.715400Z"
    }
   },
   "outputs": [],
   "source": [
    "plt.imshow(cv2.imread(brain_df.mask_path[623]))"
   ]
  },
  {
   "cell_type": "code",
   "execution_count": 24,
   "metadata": {
    "execution": {
     "iopub.execute_input": "2021-11-16T17:50:11.106681Z",
     "iopub.status.busy": "2021-11-16T17:50:11.106366Z",
     "iopub.status.idle": "2021-11-16T17:50:11.114479Z",
     "shell.execute_reply": "2021-11-16T17:50:11.113423Z",
     "shell.execute_reply.started": "2021-11-16T17:50:11.106652Z"
    }
   },
   "outputs": [],
   "source": [
    "cv2.imread(brain_df.mask_path[623]).max()"
   ]
  },
  {
   "cell_type": "code",
   "execution_count": 25,
   "metadata": {
    "execution": {
     "iopub.execute_input": "2021-11-16T17:50:15.390845Z",
     "iopub.status.busy": "2021-11-16T17:50:15.390530Z",
     "iopub.status.idle": "2021-11-16T17:50:16.554162Z",
     "shell.execute_reply": "2021-11-16T17:50:16.553408Z",
     "shell.execute_reply.started": "2021-11-16T17:50:15.390813Z"
    }
   },
   "outputs": [],
   "source": [
    "# Basic visualizations: Visualize the images (MRI and Mask) in the dataset separately \n",
    "import random\n",
    "fig, axs = plt.subplots(4,2, figsize=(10,18))\n",
    "count = 0\n",
    "for x in range(4):\n",
    "    i = random.randint(0, len(brain_df)) # select a random index\n",
    "    axs[count][0].title.set_text(\"Brain MRI\") # set title\n",
    "    axs[count][0].imshow(cv2.imread(brain_df.image_path[i])) # show MRI \n",
    "    axs[count][1].title.set_text(\"Mask - \" + str(brain_df['mask'][i])) # plot title on the mask (0 or 1)\n",
    "    axs[count][1].imshow(cv2.imread(brain_df.mask_path[i])) # Show corresponding mask\n",
    "    count += 1\n",
    "\n",
    "fig.tight_layout()\n",
    "\n"
   ]
  },
  {
   "cell_type": "code",
   "execution_count": null,
   "metadata": {
    "execution": {
     "iopub.execute_input": "2021-11-01T08:34:22.660649Z",
     "iopub.status.busy": "2021-11-01T08:34:22.66019Z",
     "iopub.status.idle": "2021-11-01T08:34:28.051612Z",
     "shell.execute_reply": "2021-11-01T08:34:28.04938Z",
     "shell.execute_reply.started": "2021-11-01T08:34:22.660608Z"
    }
   },
   "outputs": [],
   "source": [
    "\n",
    "from skimage import io\n",
    "count = 0\n",
    "fig, axs = plt.subplots(12, 3, figsize = (20, 50))\n",
    "for i in range(len(brain_df)):\n",
    "    if brain_df['mask'][i] ==1 and count <12:\n",
    "        img = io.imread(brain_df.image_path[i])\n",
    "        axs[count][0].title.set_text('Brain MRI')\n",
    "        axs[count][0].imshow(img)\n",
    "\n",
    "        mask = io.imread(brain_df.mask_path[i])\n",
    "        axs[count][1].title.set_text('Mask')\n",
    "        axs[count][1].imshow(mask, cmap = 'gray')\n",
    "\n",
    "\n",
    "        img[mask == 255] = (255, 0, 0)\n",
    "        axs[count][2].title.set_text('MRI with Mask')\n",
    "        axs[count][2].imshow(img)\n",
    "        count+=1\n",
    "\n",
    "fig.tight_layout()\n",
    "\n"
   ]
  },
  {
   "cell_type": "markdown",
   "metadata": {},
   "source": [
    "### Loading dataset paths and slitting into train, valid and test sets"
   ]
  },
  {
   "cell_type": "code",
   "execution_count": null,
   "metadata": {
    "execution": {
     "iopub.execute_input": "2021-11-01T08:34:46.988436Z",
     "iopub.status.busy": "2021-11-01T08:34:46.988076Z",
     "iopub.status.idle": "2021-11-01T08:34:46.999609Z",
     "shell.execute_reply": "2021-11-01T08:34:46.998835Z",
     "shell.execute_reply.started": "2021-11-01T08:34:46.988405Z"
    }
   },
   "outputs": [],
   "source": [
    "# loading the dataset paths\n",
    "df = pd.DataFrame(data={\"images\": img_files,\n",
    "                     \"masks\": mask_files})\n",
    "\n",
    "# train-valid-test split\n",
    "df_train, df_test = train_test_split(df, test_size=.1)\n",
    "df_train, df_val = train_test_split(df_train, test_size=.2)"
   ]
  },
  {
   "cell_type": "markdown",
   "metadata": {},
   "source": [
    "### Image augmentation "
   ]
  },
  {
   "cell_type": "code",
   "execution_count": null,
   "metadata": {
    "execution": {
     "iopub.execute_input": "2021-11-01T08:34:50.884813Z",
     "iopub.status.busy": "2021-11-01T08:34:50.884492Z",
     "iopub.status.idle": "2021-11-01T08:34:50.893028Z",
     "shell.execute_reply": "2021-11-01T08:34:50.892175Z",
     "shell.execute_reply.started": "2021-11-01T08:34:50.884785Z"
    }
   },
   "outputs": [],
   "source": [
    "# Augmentation\n",
    "def train_generator(df, batch_size, aug_dict,\n",
    "                   image_color_mode = \"rgb\",\n",
    "                   mask_color_mode = \"grayscale\",\n",
    "                   image_save_prefix = \"image\",\n",
    "                   mask_save_prefix = \"mask\",\n",
    "                   save_to_dir = None,\n",
    "                   target_size = (256, 256),\n",
    "                   seed=1):\n",
    "    \"\"\"\n",
    "    Returns sequence of Augmented images\n",
    "    by reading the path names from the dataframe\n",
    "    \"\"\"\n",
    "    \n",
    "    image_datagen = ImageDataGenerator(**aug_dict)\n",
    "    mask_datagen = ImageDataGenerator(**aug_dict)\n",
    "    \n",
    "    image_generator = image_datagen.flow_from_dataframe(\n",
    "                        df,\n",
    "                        x_col='images',\n",
    "                        class_mode=None,\n",
    "                        color_mode = image_color_mode,\n",
    "                        target_size = target_size,\n",
    "                        batch_size = batch_size,\n",
    "                        save_to_ir = save_to_dir,\n",
    "                        save_prefix = image_save_prefix,\n",
    "                        seed = seed\n",
    "    )\n",
    "    \n",
    "    mask_generator = mask_datagen.flow_from_dataframe(\n",
    "                        df,\n",
    "                        x_col='masks',\n",
    "                        class_mode=None,\n",
    "                        color_mode = mask_color_mode,\n",
    "                        target_size = target_size,\n",
    "                        batch_size = batch_size,\n",
    "                        save_to_ir = save_to_dir,\n",
    "                        save_prefix = image_save_prefix,\n",
    "                        seed = seed\n",
    "    )\n",
    "    \n",
    "    train_gen = zip(image_generator, mask_generator)\n",
    "    \n",
    "    for (img, mask) in train_gen:\n",
    "        img, mask = adjust_data(img, mask)\n",
    "        yield (img, mask)"
   ]
  },
  {
   "cell_type": "code",
   "execution_count": null,
   "metadata": {
    "execution": {
     "iopub.execute_input": "2021-11-01T08:34:51.509026Z",
     "iopub.status.busy": "2021-11-01T08:34:51.508675Z",
     "iopub.status.idle": "2021-11-01T08:34:51.514224Z",
     "shell.execute_reply": "2021-11-01T08:34:51.51328Z",
     "shell.execute_reply.started": "2021-11-01T08:34:51.508994Z"
    }
   },
   "outputs": [],
   "source": [
    "def adjust_data(img, mask):\n",
    "    \"\"\"\n",
    "    Preprocessing function: \n",
    "    Normalizes Image arrays.\n",
    "    Normalizes and thresholds Mask arrays.\n",
    "    \"\"\"\n",
    "    img = img / 255\n",
    "    \n",
    "    mask = mask / 255\n",
    "    mask[mask > 0.5] = 1\n",
    "    mask[mask <= 0.5] = 0\n",
    "    \n",
    "    return (img, mask)"
   ]
  },
  {
   "cell_type": "markdown",
   "metadata": {},
   "source": [
    "### Loss Metrics: Sorenson-Dice Loss & Jaccard Distance"
   ]
  },
  {
   "cell_type": "code",
   "execution_count": null,
   "metadata": {
    "execution": {
     "iopub.execute_input": "2021-11-01T08:34:53.280069Z",
     "iopub.status.busy": "2021-11-01T08:34:53.279733Z",
     "iopub.status.idle": "2021-11-01T08:34:53.287723Z",
     "shell.execute_reply": "2021-11-01T08:34:53.286676Z",
     "shell.execute_reply.started": "2021-11-01T08:34:53.280038Z"
    }
   },
   "outputs": [],
   "source": [
    "# Sorenson-Dice loss\n",
    "smooth = 100\n",
    "\n",
    "def dice_coef(y_true, y_pred):\n",
    "    \n",
    "    return ((2* K.sum(y_true*y_pred))/\n",
    "            (K.sum(y_true) + K.sum(y_pred) + smooth))\n",
    "\n",
    "def dice_coef_loss(y_true, y_pred):\n",
    "    return -dice_coef(y_true, y_pred)\n",
    "\n",
    "# Jaccard Distance\n",
    "def iou(y_true, y_pred):\n",
    "    intersection = K.sum(y_true * y_pred)\n",
    "    sum_ = K.sum(y_true + y_pred)\n",
    "    jac = (intersection + smooth)/(sum_ - intersection + smooth)\n",
    "    \n",
    "    return jac\n",
    "\n",
    "def jac_distance(y_true, y_pred):\n",
    "    y_true = K.flatten(y_true)\n",
    "    y_pred = K.flatten(y_pred)\n",
    "    \n",
    "    return -iou(y_true, y_pred)"
   ]
  },
  {
   "cell_type": "markdown",
   "metadata": {},
   "source": [
    "### Model Architecture: U-NET"
   ]
  },
  {
   "cell_type": "code",
   "execution_count": null,
   "metadata": {
    "execution": {
     "iopub.execute_input": "2021-11-01T08:34:54.576099Z",
     "iopub.status.busy": "2021-11-01T08:34:54.575768Z",
     "iopub.status.idle": "2021-11-01T08:34:54.597764Z",
     "shell.execute_reply": "2021-11-01T08:34:54.596723Z",
     "shell.execute_reply.started": "2021-11-01T08:34:54.576069Z"
    }
   },
   "outputs": [],
   "source": [
    "def unet(input_size=(HEIGHT, WIDTH, 3)):\n",
    "    inputs = Input(input_size)\n",
    "    \n",
    "    # block 1 - Downscaling\n",
    "    conv1 = Conv2D(64, (3,3), padding='same')(inputs)\n",
    "    bn1 = Activation('relu')(conv1)\n",
    "    conv1 = Conv2D(64, (3,3), padding='same')(bn1)\n",
    "    bn1 = BatchNormalization(axis=3)(conv1)\n",
    "    bn1 = Activation('relu')(bn1)\n",
    "    pool1 = MaxPooling2D(pool_size=(2,2))(bn1)\n",
    "    \n",
    "    # block 2 - Downscaling\n",
    "    conv2 = Conv2D(128, (3,3), padding='same')(pool1)\n",
    "    bn2 = Activation('relu')(conv2)\n",
    "    conv2 = Conv2D(128, (3,3), padding='same')(bn2)\n",
    "    bn2 = BatchNormalization(axis=3)(conv2)\n",
    "    bn2 = Activation('relu')(bn2)\n",
    "    pool2 = MaxPooling2D(pool_size=(2,2))(bn2)\n",
    "    \n",
    "    # block 3 - Downscaling\n",
    "    conv3 = Conv2D(256, (3,3), padding='same')(pool2)\n",
    "    bn3 = Activation('relu')(conv3)\n",
    "    conv3 = Conv2D(256, (3,3), padding='same')(bn3)\n",
    "    bn3 = BatchNormalization(axis=3)(conv3)\n",
    "    bn3 = Activation('relu')(bn3)\n",
    "    pool3 = MaxPooling2D(pool_size=(2,2))(bn3)\n",
    "    \n",
    "    # block 4 - Downscaling\n",
    "#     conv4 = Conv2D(512, (3,3), padding='same')(pool3)\n",
    "#     bn4 = Activation('relu')(conv4)\n",
    "#     conv4 = Conv2D(128, (3,3), padding='same')(bn4)\n",
    "#     bn4 = BatchNormalization(axis=3)(conv4)\n",
    "#     bn4 = Activation('relu')(bn4)\n",
    "#     pool4 = MaxPooling2D(pool_size=(2,2))(bn4)\n",
    "    \n",
    "    # block 5\n",
    "#     conv5 = Conv2D(1024, (3,3), padding='same')(pool4)\n",
    "#     bn5 = Activation('relu')(conv5)\n",
    "#     conv5 = Conv2D(1024, (3,3), padding='same')(bn5)\n",
    "#     bn5 = BatchNormalization(axis=3)(conv5)\n",
    "#     bn5 = Activation('relu')(bn5)\n",
    "    \n",
    "#     # block 6 - Upscaling\n",
    "#     up6 = concatenate(\n",
    "#         [Conv2DTranspose(512, (2,2),\n",
    "#                          strides=(2,2),\n",
    "#                          padding='same')(bn5), conv4], axis=3)\n",
    "#     conv6 = Conv2D(512, (3,3), padding='same')(up6)\n",
    "#     bn6 = Activation('relu')(conv6)\n",
    "#     conv6 = Conv2D(512, (3,3), padding='same')(bn6)\n",
    "#     bn6 = BatchNormalization(axis=3)(conv6)\n",
    "#     bn6 = Activation('relu')(bn6)\n",
    "    \n",
    "#     # block 7 - Upscaling\n",
    "#     up7 = concatenate(\n",
    "#         [Conv2DTranspose(256, (2,2),\n",
    "#                          strides=(2,2),\n",
    "#                          padding='same')(bn6), conv3], axis=3)\n",
    "#     conv7 = Conv2D(256, (3,3), padding='same')(up7)\n",
    "#     bn7 = Activation('relu')(conv7)\n",
    "#     conv7 = Conv2D(256, (3,3), padding='same')(bn7)\n",
    "#     bn7 = BatchNormalization(axis=3)(conv7)\n",
    "#     bn7 = Activation('relu')(bn7)\n",
    "    \n",
    "    # block 8 - Upscaling\n",
    "    up8 = concatenate(\n",
    "        [Conv2DTranspose(128, (2,2),\n",
    "                         strides=(2,2),\n",
    "                         padding='same')(bn7), conv2], axis=3)\n",
    "    conv8 = Conv2D(128, (3,3), padding='same')(up8)\n",
    "    bn8 = Activation('relu')(conv8)\n",
    "    conv8 = Conv2D(128, (3,3), padding='same')(bn8)\n",
    "    bn8 = BatchNormalization(axis=3)(conv8)\n",
    "    bn8 = Activation('relu')(bn8)\n",
    "    \n",
    "    # block 9 - Upscaling\n",
    "    up9 = concatenate(\n",
    "        [Conv2DTranspose(64, (2,2),\n",
    "                         strides=(2,2),\n",
    "                         padding='same')(bn8), conv1], axis=3)\n",
    "    conv9 = Conv2D(64, (3,3), padding='same')(up9)\n",
    "    bn9 = Activation('relu')(conv9)\n",
    "    conv9 = Conv2D(64, (3,3), padding='same')(bn9)\n",
    "    bn9 = BatchNormalization(axis=3)(conv9)\n",
    "    bn9 = Activation('relu')(bn9)\n",
    "    \n",
    "    # block 10 - Output layer\n",
    "    conv10 = Conv2D(1, (1,1), activation='sigmoid')(bn9)\n",
    "    \n",
    "    return Model(inputs=[inputs], outputs=[conv10])"
   ]
  },
  {
   "cell_type": "code",
   "execution_count": null,
   "metadata": {
    "execution": {
     "iopub.execute_input": "2021-11-01T08:34:55.381115Z",
     "iopub.status.busy": "2021-11-01T08:34:55.380814Z",
     "iopub.status.idle": "2021-11-01T08:34:57.943701Z",
     "shell.execute_reply": "2021-11-01T08:34:57.942748Z",
     "shell.execute_reply.started": "2021-11-01T08:34:55.381088Z"
    }
   },
   "outputs": [],
   "source": [
    "model = unet()\n",
    "model.summary()"
   ]
  },
  {
   "cell_type": "code",
   "execution_count": null,
   "metadata": {
    "execution": {
     "iopub.execute_input": "2021-11-01T08:35:09.271237Z",
     "iopub.status.busy": "2021-11-01T08:35:09.270925Z",
     "iopub.status.idle": "2021-11-01T08:35:09.276108Z",
     "shell.execute_reply": "2021-11-01T08:35:09.27499Z",
     "shell.execute_reply.started": "2021-11-01T08:35:09.271207Z"
    }
   },
   "outputs": [],
   "source": [
    "# Training parameters\n",
    "EPOCHS = 5\n",
    "BATCH_SIZE = 32\n",
    "ALPHA = 0.0001 # learning rate\n",
    "DECAY_RATE = ALPHA/EPOCHS"
   ]
  },
  {
   "cell_type": "code",
   "execution_count": null,
   "metadata": {
    "execution": {
     "iopub.execute_input": "2021-11-01T08:35:11.818092Z",
     "iopub.status.busy": "2021-11-01T08:35:11.817759Z",
     "iopub.status.idle": "2021-11-01T08:35:11.824177Z",
     "shell.execute_reply": "2021-11-01T08:35:11.823301Z",
     "shell.execute_reply.started": "2021-11-01T08:35:11.818062Z"
    }
   },
   "outputs": [],
   "source": [
    "df_train.iloc[726]['images']"
   ]
  },
  {
   "cell_type": "code",
   "execution_count": null,
   "metadata": {
    "execution": {
     "iopub.execute_input": "2021-11-01T08:35:13.978074Z",
     "iopub.status.busy": "2021-11-01T08:35:13.977755Z",
     "iopub.status.idle": "2021-11-01T08:35:13.984807Z",
     "shell.execute_reply": "2021-11-01T08:35:13.983593Z",
     "shell.execute_reply.started": "2021-11-01T08:35:13.978043Z"
    }
   },
   "outputs": [],
   "source": [
    "df_train.iloc[726]['masks']"
   ]
  },
  {
   "cell_type": "markdown",
   "metadata": {},
   "source": [
    "### Initilializing 'train' and 'valid' augmented image generators"
   ]
  },
  {
   "cell_type": "code",
   "execution_count": null,
   "metadata": {
    "execution": {
     "iopub.execute_input": "2021-11-01T08:35:21.130168Z",
     "iopub.status.busy": "2021-11-01T08:35:21.129851Z",
     "iopub.status.idle": "2021-11-01T08:35:21.134847Z",
     "shell.execute_reply": "2021-11-01T08:35:21.133967Z",
     "shell.execute_reply.started": "2021-11-01T08:35:21.130137Z"
    }
   },
   "outputs": [],
   "source": [
    "train_generator_args = dict(\n",
    "    rotation_range=.2,\n",
    "    width_shift_range=.05,\n",
    "    height_shift_range=.05,\n",
    "    shear_range=.05,\n",
    "    zoom_range=.05,\n",
    "    horizontal_flip=True,\n",
    "    fill_mode='nearest')"
   ]
  },
  {
   "cell_type": "code",
   "execution_count": null,
   "metadata": {
    "execution": {
     "iopub.execute_input": "2021-11-01T08:35:22.972889Z",
     "iopub.status.busy": "2021-11-01T08:35:22.972574Z",
     "iopub.status.idle": "2021-11-01T08:35:22.977663Z",
     "shell.execute_reply": "2021-11-01T08:35:22.976695Z",
     "shell.execute_reply.started": "2021-11-01T08:35:22.97286Z"
    }
   },
   "outputs": [],
   "source": [
    "train_gen = train_generator(df_train, BATCH_SIZE,\n",
    "                           train_generator_args,\n",
    "                           target_size=(HEIGHT, WIDTH))\n",
    "\n",
    "val_gen = train_generator(df_val, BATCH_SIZE,\n",
    "                           dict(),\n",
    "                           target_size=(HEIGHT, WIDTH))"
   ]
  },
  {
   "cell_type": "markdown",
   "metadata": {},
   "source": [
    "### Setting Model parameters"
   ]
  },
  {
   "cell_type": "code",
   "execution_count": null,
   "metadata": {
    "execution": {
     "iopub.execute_input": "2021-11-01T08:35:26.975536Z",
     "iopub.status.busy": "2021-11-01T08:35:26.975198Z",
     "iopub.status.idle": "2021-11-01T08:35:27.271528Z",
     "shell.execute_reply": "2021-11-01T08:35:27.270685Z",
     "shell.execute_reply.started": "2021-11-01T08:35:26.975507Z"
    }
   },
   "outputs": [],
   "source": [
    "# Setting Model parameters and compiling\n",
    "model = unet(input_size=(HEIGHT, WIDTH, 3))\n",
    "OPTIMIZER = Adam(lr=ALPHA, epsilon=None, decay=DECAY_RATE)\n",
    "model.compile(\n",
    "    optimizer=OPTIMIZER,\n",
    "    loss=dice_coef_loss,\n",
    "    metrics=['binary_accuracy', iou, dice_coef]    \n",
    ")"
   ]
  },
  {
   "cell_type": "code",
   "execution_count": null,
   "metadata": {
    "execution": {
     "iopub.execute_input": "2021-11-01T08:35:29.774695Z",
     "iopub.status.busy": "2021-11-01T08:35:29.774205Z",
     "iopub.status.idle": "2021-11-01T08:35:29.780389Z",
     "shell.execute_reply": "2021-11-01T08:35:29.779197Z",
     "shell.execute_reply.started": "2021-11-01T08:35:29.774656Z"
    }
   },
   "outputs": [],
   "source": [
    "# Saving Models\n",
    "\n",
    "callbacks = [ModelCheckpoint('brain_seg_unet.hdf5',\n",
    "                             verbose=1,\n",
    "                             save_best_only=True), EarlyStopping(monitor='val_loss', verbose=1, patience=4)]"
   ]
  },
  {
   "cell_type": "markdown",
   "metadata": {},
   "source": [
    "## Training model"
   ]
  },
  {
   "cell_type": "code",
   "execution_count": null,
   "metadata": {
    "execution": {
     "iopub.execute_input": "2021-11-01T08:35:31.616582Z",
     "iopub.status.busy": "2021-11-01T08:35:31.616214Z",
     "iopub.status.idle": "2021-11-01T08:42:58.312218Z",
     "shell.execute_reply": "2021-11-01T08:42:58.311221Z",
     "shell.execute_reply.started": "2021-11-01T08:35:31.616552Z"
    }
   },
   "outputs": [],
   "source": [
    "history = model.fit(train_gen,\n",
    "                   steps_per_epoch=len(df_train)/BATCH_SIZE,\n",
    "                   epochs=EPOCHS,\n",
    "                   callbacks=callbacks,\n",
    "                   validation_data=val_gen,\n",
    "                   validation_steps=len(df_val)/BATCH_SIZE)"
   ]
  },
  {
   "cell_type": "code",
   "execution_count": null,
   "metadata": {
    "execution": {
     "iopub.execute_input": "2021-11-01T08:43:01.783242Z",
     "iopub.status.busy": "2021-11-01T08:43:01.78292Z",
     "iopub.status.idle": "2021-11-01T08:43:02.07909Z",
     "shell.execute_reply": "2021-11-01T08:43:02.078406Z",
     "shell.execute_reply.started": "2021-11-01T08:43:01.783212Z"
    }
   },
   "outputs": [],
   "source": [
    "a = history.history\n",
    "\n",
    "list_traindice = a['dice_coef']\n",
    "list_testdice = a['val_dice_coef']\n",
    "\n",
    "list_trainjaccard = a['iou']\n",
    "list_testjaccard = a['val_iou']\n",
    "\n",
    "list_trainloss = a['loss']\n",
    "list_testloss = a['val_loss']\n",
    "plt.figure(1)\n",
    "plt.plot(list_testloss, 'b-')\n",
    "plt.plot(list_trainloss,'r-')\n",
    "plt.xlabel('iteration')\n",
    "plt.ylabel('loss')\n",
    "plt.title('loss graph', fontsize = 15)\n",
    "plt.figure(2)\n",
    "plt.plot(list_traindice, 'r-')\n",
    "plt.plot(list_testdice, 'b-')\n",
    "plt.xlabel('iteration')\n",
    "plt.ylabel('dice score')\n",
    "plt.title('dice score graph', fontsize = 15)\n",
    "plt.show()"
   ]
  },
  {
   "cell_type": "code",
   "execution_count": null,
   "metadata": {
    "execution": {
     "iopub.status.busy": "2021-08-07T10:24:47.116286Z",
     "iopub.status.idle": "2021-08-07T10:24:47.117089Z"
    }
   },
   "outputs": [],
   "source": [
    "def load_trained_model(weights_path):\n",
    "    model = unet()\n",
    "    model.load_weights(weights_path)\n",
    "    return model"
   ]
  },
  {
   "cell_type": "code",
   "execution_count": null,
   "metadata": {
    "execution": {
     "iopub.execute_input": "2021-11-01T08:43:09.975266Z",
     "iopub.status.busy": "2021-11-01T08:43:09.974844Z",
     "iopub.status.idle": "2021-11-01T08:43:21.059775Z",
     "shell.execute_reply": "2021-11-01T08:43:21.058771Z",
     "shell.execute_reply.started": "2021-11-01T08:43:09.975215Z"
    }
   },
   "outputs": [],
   "source": [
    "prediction = model.predict_generator(val_gen,50)"
   ]
  }
 ],
 "metadata": {
  "kernelspec": {
   "display_name": "Python 3",
   "language": "python",
   "name": "python3"
  },
  "language_info": {
   "codemirror_mode": {
    "name": "ipython",
    "version": 3
   },
   "file_extension": ".py",
   "mimetype": "text/x-python",
   "name": "python",
   "nbconvert_exporter": "python",
   "pygments_lexer": "ipython3",
   "version": "3.8.8"
  }
 },
 "nbformat": 4,
 "nbformat_minor": 4
}
